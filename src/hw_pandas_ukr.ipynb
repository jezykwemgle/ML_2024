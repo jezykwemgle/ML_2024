{
 "cells": [
  {
   "cell_type": "markdown",
   "metadata": {},
   "source": [
    "<center>\n",
    "<img src=\"../../img/ods_stickers.jpg\">\n",
    "## Открытый курс по машинному обучению\n",
    "<center>\n",
    "Автор материала: Юрий Кашницкий, программист-исследователь Mail.Ru Group <br> \n",
    "\n",
    "Материал распространяется на условиях лицензии [Creative Commons CC BY-NC-SA 4.0](https://creativecommons.org/licenses/by-nc-sa/4.0/). Можно использовать в любых целях (редактировать, поправлять и брать за основу), кроме коммерческих, но с обязательным упоминанием автора материала."
   ]
  },
  {
   "cell_type": "markdown",
   "metadata": {},
   "source": [
    "# <center>Домашнє завдання № 1 (демо).<br> Аналіз даних доходів населення UCI Adult</center>"
   ]
  },
  {
   "cell_type": "markdown",
   "metadata": {},
   "source": [
    "**В завданні пропонується за допомогою Pandas дати відповідь на кілька запитань по даним репозиторія UCI [Adult](https://archive.ics.uci.edu/ml/datasets/Adult).**"
   ]
  },
  {
   "cell_type": "markdown",
   "metadata": {},
   "source": [
    "Унікальні значення ознак:\n",
    "- age: continuous.\n",
    "- workclass: Private, Self-emp-not-inc, Self-emp-inc, Federal-gov, Local-gov, State-gov, Without-pay, Never-worked.\n",
    "- fnlwgt: continuous.\n",
    "- education: Bachelors, Some-college, 11th, HS-grad, Prof-school, Assoc-acdm, Assoc-voc, 9th, 7th-8th, 12th, Masters, 1st-4th, 10th, Doctorate, 5th-6th, Preschool.\n",
    "- education-num: continuous.\n",
    "- marital-status: Married-civ-spouse, Divorced, Never-married, Separated, Widowed, Married-spouse-absent, Married-AF-spouse.\n",
    "- occupation: Tech-support, Craft-repair, Other-service, Sales, Exec-managerial, Prof-specialty, Handlers-cleaners, Machine-op-inspct, Adm-clerical, Farming-fishing, Transport-moving, Priv-house-serv, Protective-serv, Armed-Forces.\n",
    "- relationship: Wife, Own-child, Husband, Not-in-family, Other-relative, Unmarried.\n",
    "- race: White, Asian-Pac-Islander, Amer-Indian-Eskimo, Other, Black.\n",
    "- sex: Female, Male.\n",
    "- capital-gain: continuous.\n",
    "- capital-loss: continuous.\n",
    "- hours-per-week: continuous.\n",
    "- native-country: United-States, Cambodia, England, Puerto-Rico, Canada, Germany, Outlying-US(Guam-USVI-etc), India, Japan, Greece, South, China, Cuba, Iran, Honduras, Philippines, Italy, Poland, Jamaica, Vietnam, Mexico, Portugal, Ireland, France, Dominican-Republic, Laos, Ecuador, Taiwan, Haiti, Columbia, Hungary, Guatemala, Nicaragua, Scotland, Thailand, Yugoslavia, El-Salvador, Trinadad&Tobago, Peru, Hong, Holand-Netherlands.   \n",
    "- salary: >50K,<=50K"
   ]
  },
  {
   "cell_type": "code",
   "execution_count": 93,
   "metadata": {
    "ExecuteTime": {
     "end_time": "2024-10-05T14:57:02.054015700Z",
     "start_time": "2024-10-05T14:57:01.999874Z"
    }
   },
   "outputs": [],
   "source": [
    "import pandas as pd"
   ]
  },
  {
   "cell_type": "code",
   "execution_count": 94,
   "metadata": {
    "ExecuteTime": {
     "end_time": "2024-10-05T14:57:02.138316400Z",
     "start_time": "2024-10-05T14:57:02.058530700Z"
    }
   },
   "outputs": [
    {
     "data": {
      "text/plain": "   age         workclass  fnlwgt  education  education-num  \\\n0   39         State-gov   77516  Bachelors             13   \n1   50  Self-emp-not-inc   83311  Bachelors             13   \n2   38           Private  215646    HS-grad              9   \n3   53           Private  234721       11th              7   \n4   28           Private  338409  Bachelors             13   \n\n       marital-status         occupation   relationship   race     sex  \\\n0       Never-married       Adm-clerical  Not-in-family  White    Male   \n1  Married-civ-spouse    Exec-managerial        Husband  White    Male   \n2            Divorced  Handlers-cleaners  Not-in-family  White    Male   \n3  Married-civ-spouse  Handlers-cleaners        Husband  Black    Male   \n4  Married-civ-spouse     Prof-specialty           Wife  Black  Female   \n\n   capital-gain  capital-loss  hours-per-week native-country salary  \n0          2174             0              40  United-States  <=50K  \n1             0             0              13  United-States  <=50K  \n2             0             0              40  United-States  <=50K  \n3             0             0              40  United-States  <=50K  \n4             0             0              40           Cuba  <=50K  ",
      "text/html": "<div>\n<style scoped>\n    .dataframe tbody tr th:only-of-type {\n        vertical-align: middle;\n    }\n\n    .dataframe tbody tr th {\n        vertical-align: top;\n    }\n\n    .dataframe thead th {\n        text-align: right;\n    }\n</style>\n<table border=\"1\" class=\"dataframe\">\n  <thead>\n    <tr style=\"text-align: right;\">\n      <th></th>\n      <th>age</th>\n      <th>workclass</th>\n      <th>fnlwgt</th>\n      <th>education</th>\n      <th>education-num</th>\n      <th>marital-status</th>\n      <th>occupation</th>\n      <th>relationship</th>\n      <th>race</th>\n      <th>sex</th>\n      <th>capital-gain</th>\n      <th>capital-loss</th>\n      <th>hours-per-week</th>\n      <th>native-country</th>\n      <th>salary</th>\n    </tr>\n  </thead>\n  <tbody>\n    <tr>\n      <th>0</th>\n      <td>39</td>\n      <td>State-gov</td>\n      <td>77516</td>\n      <td>Bachelors</td>\n      <td>13</td>\n      <td>Never-married</td>\n      <td>Adm-clerical</td>\n      <td>Not-in-family</td>\n      <td>White</td>\n      <td>Male</td>\n      <td>2174</td>\n      <td>0</td>\n      <td>40</td>\n      <td>United-States</td>\n      <td>&lt;=50K</td>\n    </tr>\n    <tr>\n      <th>1</th>\n      <td>50</td>\n      <td>Self-emp-not-inc</td>\n      <td>83311</td>\n      <td>Bachelors</td>\n      <td>13</td>\n      <td>Married-civ-spouse</td>\n      <td>Exec-managerial</td>\n      <td>Husband</td>\n      <td>White</td>\n      <td>Male</td>\n      <td>0</td>\n      <td>0</td>\n      <td>13</td>\n      <td>United-States</td>\n      <td>&lt;=50K</td>\n    </tr>\n    <tr>\n      <th>2</th>\n      <td>38</td>\n      <td>Private</td>\n      <td>215646</td>\n      <td>HS-grad</td>\n      <td>9</td>\n      <td>Divorced</td>\n      <td>Handlers-cleaners</td>\n      <td>Not-in-family</td>\n      <td>White</td>\n      <td>Male</td>\n      <td>0</td>\n      <td>0</td>\n      <td>40</td>\n      <td>United-States</td>\n      <td>&lt;=50K</td>\n    </tr>\n    <tr>\n      <th>3</th>\n      <td>53</td>\n      <td>Private</td>\n      <td>234721</td>\n      <td>11th</td>\n      <td>7</td>\n      <td>Married-civ-spouse</td>\n      <td>Handlers-cleaners</td>\n      <td>Husband</td>\n      <td>Black</td>\n      <td>Male</td>\n      <td>0</td>\n      <td>0</td>\n      <td>40</td>\n      <td>United-States</td>\n      <td>&lt;=50K</td>\n    </tr>\n    <tr>\n      <th>4</th>\n      <td>28</td>\n      <td>Private</td>\n      <td>338409</td>\n      <td>Bachelors</td>\n      <td>13</td>\n      <td>Married-civ-spouse</td>\n      <td>Prof-specialty</td>\n      <td>Wife</td>\n      <td>Black</td>\n      <td>Female</td>\n      <td>0</td>\n      <td>0</td>\n      <td>40</td>\n      <td>Cuba</td>\n      <td>&lt;=50K</td>\n    </tr>\n  </tbody>\n</table>\n</div>"
     },
     "execution_count": 94,
     "metadata": {},
     "output_type": "execute_result"
    }
   ],
   "source": [
    "data = pd.read_csv('adult.data.csv')\n",
    "data.head()"
   ]
  },
  {
   "cell_type": "markdown",
   "metadata": {},
   "source": [
    "**1. Скільки чоловіків и жінок (ознака *sex*) представлено в цьому наборі даних?**"
   ]
  },
  {
   "cell_type": "code",
   "execution_count": 95,
   "metadata": {
    "collapsed": true,
    "ExecuteTime": {
     "end_time": "2024-10-05T14:57:02.203937300Z",
     "start_time": "2024-10-05T14:57:02.136314800Z"
    }
   },
   "outputs": [
    {
     "data": {
      "text/plain": "sex\nMale      21790\nFemale    10771\nName: count, dtype: int64"
     },
     "execution_count": 95,
     "metadata": {},
     "output_type": "execute_result"
    }
   ],
   "source": [
    "data[\"sex\"].value_counts()"
   ]
  },
  {
   "cell_type": "markdown",
   "metadata": {},
   "source": [
    "**2. Який середній вік (ознака *age*) жінок?**"
   ]
  },
  {
   "cell_type": "code",
   "execution_count": 96,
   "metadata": {
    "collapsed": true,
    "ExecuteTime": {
     "end_time": "2024-10-05T14:57:02.235376Z",
     "start_time": "2024-10-05T14:57:02.148478300Z"
    }
   },
   "outputs": [
    {
     "name": "stdout",
     "output_type": "stream",
     "text": [
      "The average age of female is: 36.85823043357163\n"
     ]
    }
   ],
   "source": [
    "age = data[data[\"sex\"] == \"Female\"]['age'].mean()\n",
    "print(f\"The average age of female is: {float(age)}\")"
   ]
  },
  {
   "cell_type": "markdown",
   "metadata": {},
   "source": [
    "**3. Яка доля громадян Німеччини (ознака *native-country*)?**"
   ]
  },
  {
   "cell_type": "code",
   "execution_count": 97,
   "metadata": {
    "collapsed": true,
    "ExecuteTime": {
     "end_time": "2024-10-05T14:57:02.298490Z",
     "start_time": "2024-10-05T14:57:02.165136200Z"
    }
   },
   "outputs": [
    {
     "name": "stdout",
     "output_type": "stream",
     "text": [
      "The fate of German citizens: 0.42074874850281013\n"
     ]
    }
   ],
   "source": [
    "germans = data[data['native-country'] == \"Germany\"].shape[0]\n",
    "total = data.shape[0]\n",
    "fate = (germans / total) * 100\n",
    "print(f\"The fate of German citizens: {fate}\")"
   ]
  },
  {
   "cell_type": "markdown",
   "metadata": {},
   "source": [
    "**4-5. Які средні значення та средньоквадратичні відхилення віку тих, хто отримує більше 50K на рік (ознака *salary*) і тих, хто отримує менше 50K на рік?**"
   ]
  },
  {
   "cell_type": "code",
   "execution_count": 98,
   "metadata": {
    "collapsed": true,
    "ExecuteTime": {
     "end_time": "2024-10-05T14:57:02.301822700Z",
     "start_time": "2024-10-05T14:57:02.175088200Z"
    }
   },
   "outputs": [
    {
     "name": "stdout",
     "output_type": "stream",
     "text": [
      "Mean value and standard deviations of the ages of those who receive more than 50K per year are: 44.24984058155847; 10.519027719851826\n",
      "Mean value and standard deviations of the ages of those who receive less than 50K per year are: 36.78373786407767; 14.02008849082488\n"
     ]
    }
   ],
   "source": [
    "more_then = data[data['salary'] == \">50K\"]\n",
    "less_then = data[data['salary'] == \"<=50K\"]\n",
    "# counting mean value\n",
    "mean_more_then = more_then['age'].mean()\n",
    "mean_less_then = less_then['age'].mean()\n",
    "# counting standard deviation\n",
    "sd_more_then = more_then['age'].std()\n",
    "sd_less_then = less_then['age'].std()\n",
    "\n",
    "print(f\"Mean value and standard deviations of the ages of those who receive more than 50K per year are: {mean_more_then}; {sd_more_then}\")\n",
    "print(f\"Mean value and standard deviations of the ages of those who receive less than 50K per year are: {mean_less_then}; {sd_less_then}\")"
   ]
  },
  {
   "cell_type": "markdown",
   "source": [
    "Стандартне відхилення: 10.51\n",
    "Вік осіб, які заробляють понад 50 тис., ближчий до середнього віку (44,25), що вказує на те, що більшість людей у цій групі мають однаковий вік.\n",
    "\n",
    "Стандартне відхилення: 14.02\n",
    "Вік осіб, які заробляють менше 50 тис., більш розкиданий, що вказує на більшу різноманітність віку в цій групі."
   ],
   "metadata": {
    "collapsed": false
   }
  },
  {
   "cell_type": "markdown",
   "metadata": {},
   "source": [
    "**6. Чи правда, що люди, які отримують більше 50k, мають як мінімум вищу освіту? (ознака *education – Bachelors, Prof-school, Assoc-acdm, Assoc-voc, Masters* или *Doctorate*)**"
   ]
  },
  {
   "cell_type": "code",
   "execution_count": 99,
   "metadata": {
    "collapsed": true,
    "ExecuteTime": {
     "end_time": "2024-10-05T14:57:02.302827200Z",
     "start_time": "2024-10-05T14:57:02.195400500Z"
    }
   },
   "outputs": [
    {
     "name": "stdout",
     "output_type": "stream",
     "text": [
      "Is it true that people who earn more than 50k have at least a university degree? False\n"
     ]
    }
   ],
   "source": [
    "higher_education = ['Bachelors', 'Prof-school', 'Assoc-acdm', 'Assoc-voc', 'Masters', 'Doctorate']\n",
    "\n",
    "has_higher_education = more_then['education'].isin(higher_education).all()\n",
    "print(f\"Is it true that people who earn more than 50k have at least a university degree? {has_higher_education}\")"
   ]
  },
  {
   "cell_type": "markdown",
   "metadata": {},
   "source": [
    "**7. Порахуйте статистику віку для кожної раси (ознака *race*) і кожної статі. Використайте *groupby* и *describe*. Знайдіть таким сином максимальний вік чоловіків раси *Amer-Indian-Eskimo*.**"
   ]
  },
  {
   "cell_type": "code",
   "execution_count": 100,
   "metadata": {
    "collapsed": true,
    "ExecuteTime": {
     "end_time": "2024-10-05T14:57:02.350940200Z",
     "start_time": "2024-10-05T14:57:02.208726500Z"
    }
   },
   "outputs": [
    {
     "data": {
      "text/plain": "                 race     sex   max\n0  Amer-Indian-Eskimo  Female  80.0\n1  Amer-Indian-Eskimo    Male  82.0\n2  Asian-Pac-Islander  Female  75.0\n3  Asian-Pac-Islander    Male  90.0\n4               Black  Female  90.0\n5               Black    Male  90.0\n6               Other  Female  74.0\n7               Other    Male  77.0\n8               White  Female  90.0\n9               White    Male  90.0",
      "text/html": "<div>\n<style scoped>\n    .dataframe tbody tr th:only-of-type {\n        vertical-align: middle;\n    }\n\n    .dataframe tbody tr th {\n        vertical-align: top;\n    }\n\n    .dataframe thead th {\n        text-align: right;\n    }\n</style>\n<table border=\"1\" class=\"dataframe\">\n  <thead>\n    <tr style=\"text-align: right;\">\n      <th></th>\n      <th>race</th>\n      <th>sex</th>\n      <th>max</th>\n    </tr>\n  </thead>\n  <tbody>\n    <tr>\n      <th>0</th>\n      <td>Amer-Indian-Eskimo</td>\n      <td>Female</td>\n      <td>80.0</td>\n    </tr>\n    <tr>\n      <th>1</th>\n      <td>Amer-Indian-Eskimo</td>\n      <td>Male</td>\n      <td>82.0</td>\n    </tr>\n    <tr>\n      <th>2</th>\n      <td>Asian-Pac-Islander</td>\n      <td>Female</td>\n      <td>75.0</td>\n    </tr>\n    <tr>\n      <th>3</th>\n      <td>Asian-Pac-Islander</td>\n      <td>Male</td>\n      <td>90.0</td>\n    </tr>\n    <tr>\n      <th>4</th>\n      <td>Black</td>\n      <td>Female</td>\n      <td>90.0</td>\n    </tr>\n    <tr>\n      <th>5</th>\n      <td>Black</td>\n      <td>Male</td>\n      <td>90.0</td>\n    </tr>\n    <tr>\n      <th>6</th>\n      <td>Other</td>\n      <td>Female</td>\n      <td>74.0</td>\n    </tr>\n    <tr>\n      <th>7</th>\n      <td>Other</td>\n      <td>Male</td>\n      <td>77.0</td>\n    </tr>\n    <tr>\n      <th>8</th>\n      <td>White</td>\n      <td>Female</td>\n      <td>90.0</td>\n    </tr>\n    <tr>\n      <th>9</th>\n      <td>White</td>\n      <td>Male</td>\n      <td>90.0</td>\n    </tr>\n  </tbody>\n</table>\n</div>"
     },
     "execution_count": 100,
     "metadata": {},
     "output_type": "execute_result"
    }
   ],
   "source": [
    "gr = data.groupby(['race', 'sex'])['age'].describe()[['max']].reset_index().copy()\n",
    "gr"
   ]
  },
  {
   "cell_type": "markdown",
   "source": [
    "Відповідь: максимальний вік чоловіків раси *Amer-Indian-Eskimo **82 роки** "
   ],
   "metadata": {
    "collapsed": false
   }
  },
  {
   "cell_type": "markdown",
   "metadata": {},
   "source": [
    "**8. Серед кого більша доля багатіших (>50K): серед одружених чи не одружених чоловіків (ознака *marital-status*)? За одружених вважаємо тих, у кого *marital-status* починається із *Married* (Married-civ-spouse, Married-spouse-absent или Married-AF-spouse), всі інші - не одружені.**"
   ]
  },
  {
   "cell_type": "code",
   "execution_count": 101,
   "metadata": {
    "collapsed": true,
    "ExecuteTime": {
     "end_time": "2024-10-05T14:57:02.351949200Z",
     "start_time": "2024-10-05T14:57:02.261990500Z"
    }
   },
   "outputs": [
    {
     "name": "stdout",
     "output_type": "stream",
     "text": [
      "Share of richer men (>50K) among married is: 5965 or unmarried men is: 697\n"
     ]
    }
   ],
   "source": [
    "# getting all males with salary >50K (with marital-status and sex column)\n",
    "salary_male = data[(data['sex'] == 'Male') & (data['salary'] == '>50K')][['salary', 'marital-status', 'sex']].copy()\n",
    "# adding new column marital-status-group that will split all males into 2 groups: Married or not.\n",
    "salary_male['marital-status-group'] = salary_male['marital-status'].apply(\n",
    "    lambda x: 'Married' if x.startswith('Married') else 'Not-Married'\n",
    ")\n",
    "# getting count of rich males who is married and not.\n",
    "married_male = salary_male[salary_male['marital-status-group'] == \"Married\"].shape\n",
    "unmarried_male = salary_male[salary_male['marital-status-group'] == \"Not-Married\"].shape\n",
    "# \n",
    "print(f\"Share of richer men (>50K) among married is: {married_male[0]} or unmarried men is: {unmarried_male[0]}\")"
   ]
  },
  {
   "cell_type": "markdown",
   "metadata": {},
   "source": [
    "**9. Яку максимальну кількість годин в тиждень працює людина (ознака *hours-per-week*)? Скільки людей працюють таку кількість годин і який відсоток серед них багатих?**"
   ]
  },
  {
   "cell_type": "code",
   "execution_count": 102,
   "metadata": {
    "collapsed": true,
    "ExecuteTime": {
     "end_time": "2024-10-05T14:57:02.428853200Z",
     "start_time": "2024-10-05T14:57:02.284231800Z"
    }
   },
   "outputs": [
    {
     "name": "stdout",
     "output_type": "stream",
     "text": [
      "Max hours per week: 99\n",
      "Number of people who works max hour per week: 85\n",
      "Rich percentage: 29.411764705882355\n"
     ]
    }
   ],
   "source": [
    "max_hours_per_week = data['hours-per-week'].max()\n",
    "print(f\"Max hours per week: {max_hours_per_week}\")\n",
    "# getting all people who work max hours per week\n",
    "count_of_people = data[data['hours-per-week'] == max_hours_per_week].copy()\n",
    "print(f\"Number of people who works max hour per week: {count_of_people.shape[0]}\")\n",
    "# counting rich people percentage\n",
    "rich_percentage = (count_of_people[count_of_people['salary'] == \">50K\"].shape[0] / count_of_people.shape[0]) * 100\n",
    "print(f\"Rich percentage: {rich_percentage}\")"
   ]
  },
  {
   "cell_type": "markdown",
   "metadata": {},
   "source": [
    "**10. Порахуйте середню тривалість роботи на тиждень (*hours-per-week*) серед багатих і бідних (*salary*) для кожної країни (*native-country*).**"
   ]
  },
  {
   "cell_type": "code",
   "execution_count": 103,
   "metadata": {
    "collapsed": true,
    "ExecuteTime": {
     "end_time": "2024-10-05T14:57:02.449942300Z",
     "start_time": "2024-10-05T14:57:02.296495100Z"
    }
   },
   "outputs": [
    {
     "data": {
      "text/plain": "   native-country status  hours-per-week\n0               ?   Pure       40.164760\n1               ?   Rich       45.547945\n2        Cambodia   Pure       41.416667\n3        Cambodia   Rich       40.000000\n4          Canada   Pure       37.914634\n..            ...    ...             ...\n77  United-States   Rich       45.505369\n78        Vietnam   Pure       37.193548\n79        Vietnam   Rich       39.200000\n80     Yugoslavia   Pure       41.600000\n81     Yugoslavia   Rich       49.500000\n\n[82 rows x 3 columns]",
      "text/html": "<div>\n<style scoped>\n    .dataframe tbody tr th:only-of-type {\n        vertical-align: middle;\n    }\n\n    .dataframe tbody tr th {\n        vertical-align: top;\n    }\n\n    .dataframe thead th {\n        text-align: right;\n    }\n</style>\n<table border=\"1\" class=\"dataframe\">\n  <thead>\n    <tr style=\"text-align: right;\">\n      <th></th>\n      <th>native-country</th>\n      <th>status</th>\n      <th>hours-per-week</th>\n    </tr>\n  </thead>\n  <tbody>\n    <tr>\n      <th>0</th>\n      <td>?</td>\n      <td>Pure</td>\n      <td>40.164760</td>\n    </tr>\n    <tr>\n      <th>1</th>\n      <td>?</td>\n      <td>Rich</td>\n      <td>45.547945</td>\n    </tr>\n    <tr>\n      <th>2</th>\n      <td>Cambodia</td>\n      <td>Pure</td>\n      <td>41.416667</td>\n    </tr>\n    <tr>\n      <th>3</th>\n      <td>Cambodia</td>\n      <td>Rich</td>\n      <td>40.000000</td>\n    </tr>\n    <tr>\n      <th>4</th>\n      <td>Canada</td>\n      <td>Pure</td>\n      <td>37.914634</td>\n    </tr>\n    <tr>\n      <th>...</th>\n      <td>...</td>\n      <td>...</td>\n      <td>...</td>\n    </tr>\n    <tr>\n      <th>77</th>\n      <td>United-States</td>\n      <td>Rich</td>\n      <td>45.505369</td>\n    </tr>\n    <tr>\n      <th>78</th>\n      <td>Vietnam</td>\n      <td>Pure</td>\n      <td>37.193548</td>\n    </tr>\n    <tr>\n      <th>79</th>\n      <td>Vietnam</td>\n      <td>Rich</td>\n      <td>39.200000</td>\n    </tr>\n    <tr>\n      <th>80</th>\n      <td>Yugoslavia</td>\n      <td>Pure</td>\n      <td>41.600000</td>\n    </tr>\n    <tr>\n      <th>81</th>\n      <td>Yugoslavia</td>\n      <td>Rich</td>\n      <td>49.500000</td>\n    </tr>\n  </tbody>\n</table>\n<p>82 rows × 3 columns</p>\n</div>"
     },
     "execution_count": 103,
     "metadata": {},
     "output_type": "execute_result"
    }
   ],
   "source": [
    "data['status'] = data['salary'].apply(lambda x: 'Rich' if x.startswith('>') else 'Pure')\n",
    "data.groupby(['native-country', 'status'])['hours-per-week'].mean().reset_index().copy()"
   ]
  }
 ],
 "metadata": {
  "anaconda-cloud": {},
  "kernelspec": {
   "display_name": "Python 3",
   "language": "python",
   "name": "python3"
  },
  "language_info": {
   "codemirror_mode": {
    "name": "ipython",
    "version": 3
   },
   "file_extension": ".py",
   "mimetype": "text/x-python",
   "name": "python",
   "nbconvert_exporter": "python",
   "pygments_lexer": "ipython3",
   "version": "3.6.6"
  }
 },
 "nbformat": 4,
 "nbformat_minor": 1
}
